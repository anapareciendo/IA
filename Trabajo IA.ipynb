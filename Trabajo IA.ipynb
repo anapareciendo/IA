{
 "cells": [
  {
   "cell_type": "markdown",
   "metadata": {},
   "source": [
    "# Redes bayesianas - Resident Evil"
   ]
  },
  {
   "cell_type": "markdown",
   "metadata": {},
   "source": [
    "En este trabajo usaremos una red bayesiana construida por nosotros. Esta red se basa en un contexto imaginario del mundo de __Resident Evil__. Esta pensada con el objetivo de que un superviviente pueda saber cuales son sus posibilidades de mantenerse con vida teniendo en cuenta los recursos y otras variables del universo.\n",
    "\n",
    "Para la realización de la red se ha usado la herramienta __Weka__. \n",
    "Una vez construida, se ha exportado en formato .xml y retocado para que el método de pgmpy la lea correctamente.\n",
    "\n",
    "El grafo de la red es el que se muestra a continuación:\n",
    "\n",
    "<img src='G_RE.png' width=700 height=463>"
   ]
  },
  {
   "cell_type": "markdown",
   "metadata": {},
   "source": [
    "Para poder trabajar con redes bayesianas usaremos el paquete __pgmpy__. Lo primero que haremos será importar el paquete y las herramientas necesarias."
   ]
  },
  {
   "cell_type": "code",
   "execution_count": 137,
   "metadata": {
    "collapsed": true
   },
   "outputs": [],
   "source": [
    "#Importamos el paquete pgmpy y las herramientras necesarias\n",
    "\n",
    "import networkx  # Permite trabajar con grafos\n",
    "import pgmpy.models as pgmm  # Modelos gráficos de probabilidad\n",
    "import pgmpy.factors as pgmf  # Tablas de probabilidades condicionales y\n",
    "                              # potenciales de probabilidad\n",
    "import pgmpy.inference as pgmi  # Inferencia probabilística exacta\n",
    "\n",
    "#Librerías para cálculo de heurísticas\n",
    "import operator\n",
    "from itertools import combinations"
   ]
  },
  {
   "cell_type": "markdown",
   "metadata": {},
   "source": [
    "Además, para leer ficheros con extensión __.XMLBIF__ necesitaremos importar la herramienta __readerwrite.XMLBIF__ de pgmpy."
   ]
  },
  {
   "cell_type": "code",
   "execution_count": 138,
   "metadata": {
    "collapsed": true
   },
   "outputs": [],
   "source": [
    "import pgmpy.readwrite.XMLBIF as rwBIF\n",
    "\n",
    "reader = rwBIF.XMLBIFReader('residentevil.xml')\n",
    "Modelo_residentevil = reader.get_model()"
   ]
  },
  {
   "cell_type": "markdown",
   "metadata": {},
   "source": [
    "Vamos a ver los __nodos, aristas__ y __tablas__ de la red:"
   ]
  },
  {
   "cell_type": "code",
   "execution_count": 139,
   "metadata": {},
   "outputs": [
    {
     "data": {
      "text/plain": [
       "['Lugar',\n",
       " 'Ciudad',\n",
       " 'Horda',\n",
       " 'Medicina',\n",
       " 'Agua',\n",
       " 'Comida',\n",
       " 'Refugio',\n",
       " 'Vehiculo',\n",
       " 'Armas',\n",
       " 'Grupo',\n",
       " 'Soldados umbrella',\n",
       " 'Cooperativo']"
      ]
     },
     "execution_count": 139,
     "metadata": {},
     "output_type": "execute_result"
    }
   ],
   "source": [
    "#Nodos de la red\n",
    "Modelo_residentevil.nodes()"
   ]
  },
  {
   "cell_type": "code",
   "execution_count": 140,
   "metadata": {},
   "outputs": [
    {
     "data": {
      "text/plain": [
       "[('Lugar', 'Ciudad'),\n",
       " ('Lugar', 'Horda'),\n",
       " ('Ciudad', 'Horda'),\n",
       " ('Ciudad', 'Medicina'),\n",
       " ('Ciudad', 'Agua'),\n",
       " ('Ciudad', 'Comida'),\n",
       " ('Ciudad', 'Refugio'),\n",
       " ('Ciudad', 'Vehiculo'),\n",
       " ('Ciudad', 'Armas'),\n",
       " ('Ciudad', 'Grupo'),\n",
       " ('Ciudad', 'Soldados umbrella'),\n",
       " ('Refugio', 'Cooperativo'),\n",
       " ('Grupo', 'Cooperativo')]"
      ]
     },
     "execution_count": 140,
     "metadata": {},
     "output_type": "execute_result"
    }
   ],
   "source": [
    "#Aristas de la red\n",
    "Modelo_residentevil.edges()"
   ]
  },
  {
   "cell_type": "code",
   "execution_count": 141,
   "metadata": {},
   "outputs": [
    {
     "data": {
      "text/plain": [
       "[<TabularCPD representing P(Lugar:3) at 0x118969f60>,\n",
       " <TabularCPD representing P(Ciudad:2 | Lugar:3) at 0x118969f98>,\n",
       " <TabularCPD representing P(Horda:2 | Ciudad:2, Lugar:3) at 0x118969390>,\n",
       " <TabularCPD representing P(Medicina:2 | Ciudad:2) at 0x118969630>,\n",
       " <TabularCPD representing P(Agua:2 | Ciudad:2) at 0x118969940>,\n",
       " <TabularCPD representing P(Comida:2 | Ciudad:2) at 0x118969e80>,\n",
       " <TabularCPD representing P(Refugio:2 | Ciudad:2) at 0x118969d68>,\n",
       " <TabularCPD representing P(Vehiculo:2 | Ciudad:2) at 0x118969d30>,\n",
       " <TabularCPD representing P(Armas:2 | Ciudad:2) at 0x1189694e0>,\n",
       " <TabularCPD representing P(Grupo:2 | Ciudad:2) at 0x1189695c0>,\n",
       " <TabularCPD representing P(Soldados umbrella:2 | Ciudad:2) at 0x1189697b8>,\n",
       " <TabularCPD representing P(Cooperativo:2 | Refugio:2, Grupo:2) at 0x118969860>]"
      ]
     },
     "execution_count": 141,
     "metadata": {},
     "output_type": "execute_result"
    }
   ],
   "source": [
    "#CPDS de la red\n",
    "Modelo_residentevil.cpds"
   ]
  },
  {
   "cell_type": "markdown",
   "metadata": {},
   "source": [
    "Y por último, es necesario comprobar que la red no tiene errores de construcción. Para ello empleamos el método __check_model__ de pgmpy:"
   ]
  },
  {
   "cell_type": "code",
   "execution_count": 142,
   "metadata": {},
   "outputs": [
    {
     "name": "stderr",
     "output_type": "stream",
     "text": [
      "/Users/anapareciendo/anaconda/lib/python3.6/site-packages/numpy/core/numeric.py:190: VisibleDeprecationWarning: using a non-integer number instead of an integer will result in an error in the future\n",
      "  a = empty(shape, dtype, order)\n"
     ]
    },
    {
     "data": {
      "text/plain": [
       "True"
      ]
     },
     "execution_count": 142,
     "metadata": {},
     "output_type": "execute_result"
    }
   ],
   "source": [
    "#Comprueba que el modelo no contiene errores, en caso de ser correcto devuelve True.\n",
    "Modelo_residentevil.check_model()"
   ]
  },
  {
   "cell_type": "markdown",
   "metadata": {},
   "source": [
    "# Eliminación de variables"
   ]
  },
  {
   "cell_type": "markdown",
   "metadata": {},
   "source": [
    "Una vez tenemos la red construida y cargada, vamos a diseñar el algoritmo de __eliminación de variables__. Se han seguido los siguientes pasos:\n",
    "\n",
    "1. Descartar las variables irrelevantes para la consulta antes de comen- zar (mostrando un mensaje con la lista de variables descartadas).\n",
    "2. Obtener todos los factores iniciales a partir de la red, ignorando las variables descartadas y teniendo en cuenta las evidencias.\n",
    "3. Eliminar las variables ocultas, a través de las correspondientes ope- raciones sobre los factores.\n",
    "4. Multiplicar los factores finales (en caso de que haya más de uno).\n",
    "5. Normalizar.\n",
    "\n",
    "La consulta utiliza como ejemplo durante el desarrollo del algoritmo ha sido: la probabilidad de que __Refugio__ sea __verdadero__, sabiendo que __Ciudad__ y __Cooperativo__ son __verdaderos__.\n",
    "\n",
    "Finalmente, con el fin de comprobar la correcta implementación del algoritmo, se ha usado una herramienta __VariableElimination__ incluida en pgmpy que aplica directamente dicho algoritmo."
   ]
  },
  {
   "cell_type": "code",
   "execution_count": 143,
   "metadata": {
    "collapsed": true
   },
   "outputs": [],
   "source": [
    "#Paso 1: Función que descarta las variables irrelevantes.\n",
    "\n",
    "def descarta(m, c, e):\n",
    "    lista = c+e\n",
    "    descartados = []\n",
    "    padres = []\n",
    "    for l in lista:\n",
    "        subgrafo = Modelo_residentevil.subgraph(networkx.ancestors(Modelo_residentevil, l))\n",
    "        for s in subgrafo:\n",
    "            padres.append(s)\n",
    "                          \n",
    "    for n in m.nodes():\n",
    "        if n not in lista and n not in padres:\n",
    "            descartados.append(n)\n",
    "                  \n",
    "    return descartados  "
   ]
  },
  {
   "cell_type": "markdown",
   "metadata": {},
   "source": [
    "__Ejemplo 1:__ Probabilidad de Refugio sabiendo que si Ciudad y si Cooperativo. "
   ]
  },
  {
   "cell_type": "code",
   "execution_count": 144,
   "metadata": {},
   "outputs": [
    {
     "data": {
      "text/plain": [
       "['Horda',\n",
       " 'Medicina',\n",
       " 'Agua',\n",
       " 'Comida',\n",
       " 'Vehiculo',\n",
       " 'Armas',\n",
       " 'Soldados umbrella']"
      ]
     },
     "execution_count": 144,
     "metadata": {},
     "output_type": "execute_result"
    }
   ],
   "source": [
    "#Probando la función descartada\n",
    "\n",
    "consulta = []\n",
    "consulta.append(\"Refugio\")\n",
    "evidencias = []\n",
    "evidencias.append(\"Ciudad\")\n",
    "evidencias.append(\"Cooperativo\")\n",
    "\n",
    "descarta(Modelo_residentevil,consulta,evidencias)"
   ]
  },
  {
   "cell_type": "code",
   "execution_count": 145,
   "metadata": {
    "collapsed": true
   },
   "outputs": [],
   "source": [
    "#Paso 2: Función que devuelve los factores iniciales reducidos según las evidencias.\n",
    "\n",
    "def factores_iniciales(m,d,e):\n",
    "    c = 0\n",
    "    factores = {}\n",
    "    for n in m.nodes():\n",
    "        if n not in d:\n",
    "            factores[n]= m.cpds[c].to_factor()     \n",
    "        c+=1\n",
    "    for k,v in factores.items():\n",
    "        for i in v.scope():\n",
    "            if i in e:\n",
    "                v = v.reduce([(i, e[i])])\n",
    "        \n",
    "    return factores"
   ]
  },
  {
   "cell_type": "code",
   "execution_count": 146,
   "metadata": {},
   "outputs": [
    {
     "name": "stdout",
     "output_type": "stream",
     "text": [
      "Lugar\n",
      "['Lugar']\n",
      "╒═════════╤══════════════╕\n",
      "│ Lugar   │   phi(Lugar) │\n",
      "╞═════════╪══════════════╡\n",
      "│ Lugar_0 │       0.3000 │\n",
      "├─────────┼──────────────┤\n",
      "│ Lugar_1 │       0.2000 │\n",
      "├─────────┼──────────────┤\n",
      "│ Lugar_2 │       0.5000 │\n",
      "╘═════════╧══════════════╛\n",
      "Ciudad\n",
      "['Lugar']\n",
      "╒═════════╤══════════════╕\n",
      "│ Lugar   │   phi(Lugar) │\n",
      "╞═════════╪══════════════╡\n",
      "│ Lugar_0 │       0.4000 │\n",
      "├─────────┼──────────────┤\n",
      "│ Lugar_1 │       0.8000 │\n",
      "├─────────┼──────────────┤\n",
      "│ Lugar_2 │       0.2000 │\n",
      "╘═════════╧══════════════╛\n",
      "Refugio\n",
      "['Refugio']\n",
      "╒═══════════╤════════════════╕\n",
      "│ Refugio   │   phi(Refugio) │\n",
      "╞═══════════╪════════════════╡\n",
      "│ Refugio_0 │         0.4000 │\n",
      "├───────────┼────────────────┤\n",
      "│ Refugio_1 │         0.6000 │\n",
      "╘═══════════╧════════════════╛\n",
      "Grupo\n",
      "['Grupo']\n",
      "╒═════════╤══════════════╕\n",
      "│ Grupo   │   phi(Grupo) │\n",
      "╞═════════╪══════════════╡\n",
      "│ Grupo_0 │       0.2000 │\n",
      "├─────────┼──────────────┤\n",
      "│ Grupo_1 │       0.8000 │\n",
      "╘═════════╧══════════════╛\n",
      "Cooperativo\n",
      "['Grupo', 'Refugio']\n",
      "╒═════════╤═══════════╤══════════════════════╕\n",
      "│ Grupo   │ Refugio   │   phi(Grupo,Refugio) │\n",
      "╞═════════╪═══════════╪══════════════════════╡\n",
      "│ Grupo_0 │ Refugio_0 │               0.2000 │\n",
      "├─────────┼───────────┼──────────────────────┤\n",
      "│ Grupo_0 │ Refugio_1 │               0.6000 │\n",
      "├─────────┼───────────┼──────────────────────┤\n",
      "│ Grupo_1 │ Refugio_0 │               1.0000 │\n",
      "├─────────┼───────────┼──────────────────────┤\n",
      "│ Grupo_1 │ Refugio_1 │               1.0000 │\n",
      "╘═════════╧═══════════╧══════════════════════╛\n"
     ]
    }
   ],
   "source": [
    "#Llamada a la función factores_iniciales\n",
    "d = descarta(Modelo_residentevil, consulta, evidencias)\n",
    "e = {'Ciudad':1, 'Cooperativo':1}\n",
    "factores = factores_iniciales(Modelo_residentevil,d,e)\n",
    "\n",
    "for clave, valor in factores.items():\n",
    "    print(clave)\n",
    "    print(valor.scope())\n",
    "    print(valor)"
   ]
  },
  {
   "cell_type": "code",
   "execution_count": 147,
   "metadata": {
    "collapsed": true
   },
   "outputs": [],
   "source": [
    "#Paso 3: Función que elimina las variables ocultas.\n",
    "def calcula_elimina(factores, consulta, evidencias):\n",
    "    elimina = []\n",
    "    for k,v in factores.items():\n",
    "        if k not in consultas and k not in evidencias:\n",
    "            elimina.append(k)\n",
    "    return elimina\n",
    "\n",
    "def eliminar_variables(factores, consultas, evidencias):\n",
    "    elimina = calcula_elimina(factores,consultas,evidencias)\n",
    "    res = {}\n",
    "    \n",
    "    for e in elimina:\n",
    "        for k,v in factores.items():\n",
    "            if e in v.scope() and len(v.scope()) > 1:\n",
    "                phi_not = pgmf.factor_product(factores[e],v)\n",
    "                phi_not.marginalize([e])\n",
    "                factores[k] = phi_not\n",
    "    for k,v in factores.items():\n",
    "        for i in v.scope():\n",
    "            if i in consultas:\n",
    "                res[k] = v\n",
    "        \n",
    "    return res"
   ]
  },
  {
   "cell_type": "code",
   "execution_count": 148,
   "metadata": {},
   "outputs": [
    {
     "name": "stdout",
     "output_type": "stream",
     "text": [
      "Refugio\n",
      "['Refugio']\n",
      "╒═══════════╤════════════════╕\n",
      "│ Refugio   │   phi(Refugio) │\n",
      "╞═══════════╪════════════════╡\n",
      "│ Refugio_0 │         0.4000 │\n",
      "├───────────┼────────────────┤\n",
      "│ Refugio_1 │         0.6000 │\n",
      "╘═══════════╧════════════════╛\n",
      "Cooperativo\n",
      "['Refugio']\n",
      "╒═══════════╤════════════════╕\n",
      "│ Refugio   │   phi(Refugio) │\n",
      "╞═══════════╪════════════════╡\n",
      "│ Refugio_0 │         0.8400 │\n",
      "├───────────┼────────────────┤\n",
      "│ Refugio_1 │         0.9200 │\n",
      "╘═══════════╧════════════════╛\n"
     ]
    }
   ],
   "source": [
    "#Llamada a la función eliminar_variables\n",
    "\n",
    "consultas = []\n",
    "consultas.append(\"Refugio\")\n",
    "evidencias = []\n",
    "evidencias.append(\"Ciudad\")\n",
    "evidencias.append(\"Cooperativo\")\n",
    "\n",
    "d = descarta(Modelo_residentevil, consultas, evidencias)\n",
    "e = {'Ciudad':1, 'Cooperativo':1}\n",
    "\n",
    "factores = factores_iniciales(Modelo_residentevil,d,e)\n",
    "\n",
    "ev = eliminar_variables(factores,consultas,evidencias)\n",
    "          \n",
    "for k,v in ev.items():\n",
    "    print(k)\n",
    "    print(v.scope())\n",
    "    print(v)"
   ]
  },
  {
   "cell_type": "code",
   "execution_count": 149,
   "metadata": {
    "collapsed": true
   },
   "outputs": [],
   "source": [
    "#Paso 4 y 5: Función que multiplica y normaliza los factores restantes.\n",
    "\n",
    "def mn_factores(factores):\n",
    "    m = []\n",
    "    for k,v in factores.items():\n",
    "        if not not v.scope():\n",
    "            m.append(v)\n",
    "        \n",
    "    phi = pgmf.factor_product(*m)\n",
    "    phi.normalize()\n",
    "    \n",
    "    return phi"
   ]
  },
  {
   "cell_type": "code",
   "execution_count": 150,
   "metadata": {},
   "outputs": [
    {
     "name": "stdout",
     "output_type": "stream",
     "text": [
      "╒═══════════╤════════════════╕\n",
      "│ Refugio   │   phi(Refugio) │\n",
      "╞═══════════╪════════════════╡\n",
      "│ Refugio_0 │         0.3784 │\n",
      "├───────────┼────────────────┤\n",
      "│ Refugio_1 │         0.6216 │\n",
      "╘═══════════╧════════════════╛\n"
     ]
    }
   ],
   "source": [
    "#Llamada a la función mn_factores\n",
    "end = mn_factores(eliminar_variables(factores,consultas,evidencias))\n",
    "print(end)"
   ]
  },
  {
   "cell_type": "code",
   "execution_count": 151,
   "metadata": {},
   "outputs": [
    {
     "name": "stdout",
     "output_type": "stream",
     "text": [
      "╒═══════════╤════════════════╕\n",
      "│ Refugio   │   phi(Refugio) │\n",
      "╞═══════════╪════════════════╡\n",
      "│ Refugio_0 │         0.3784 │\n",
      "├───────────┼────────────────┤\n",
      "│ Refugio_1 │         0.6216 │\n",
      "╘═══════════╧════════════════╛\n"
     ]
    },
    {
     "name": "stderr",
     "output_type": "stream",
     "text": [
      "/Users/anapareciendo/anaconda/lib/python3.6/site-packages/numpy/core/numeric.py:190: VisibleDeprecationWarning: using a non-integer number instead of an integer will result in an error in the future\n",
      "  a = empty(shape, dtype, order)\n"
     ]
    }
   ],
   "source": [
    "#Uso de la herramienta VariableElimination para comprobar el correcto resultado usando el ejemplo 1\n",
    "\n",
    "Modelo_re_ev = pgmi.VariableElimination(Modelo_residentevil)\n",
    "consulta = Modelo_re_ev.query(['Refugio'], {'Ciudad': 1, 'Cooperativo': 1})\n",
    "print(consulta['Refugio'])"
   ]
  },
  {
   "cell_type": "markdown",
   "metadata": {},
   "source": [
    "__Ejemplo 2:__ Probabilidad de Ciudad sabiendo que si Agua y no Refugio. "
   ]
  },
  {
   "cell_type": "code",
   "execution_count": 152,
   "metadata": {},
   "outputs": [
    {
     "name": "stdout",
     "output_type": "stream",
     "text": [
      "╒══════════╤═══════════════╕\n",
      "│ Ciudad   │   phi(Ciudad) │\n",
      "╞══════════╪═══════════════╡\n",
      "│ Ciudad_0 │        0.7099 │\n",
      "├──────────┼───────────────┤\n",
      "│ Ciudad_1 │        0.2901 │\n",
      "╘══════════╧═══════════════╛\n"
     ]
    }
   ],
   "source": [
    "# Construyendo el ejemplo 2\n",
    "\n",
    "consultas.append(\"Ciudad\")\n",
    "evidencias = []\n",
    "evidencias.append(\"Agua\")\n",
    "evidencias.append(\"Refugio\")\n",
    "\n",
    "d = descarta(Modelo_residentevil, consultas, evidencias)\n",
    "e = {'Agua':1, 'Refugio':0}\n",
    "\n",
    "factores = factores_iniciales(Modelo_residentevil,d,e)\n",
    "\n",
    "ev = eliminar_variables(factores,consultas,evidencias)\n",
    "end = mn_factores(eliminar_variables(factores,consultas,evidencias))\n",
    "print(end)\n"
   ]
  },
  {
   "cell_type": "code",
   "execution_count": 153,
   "metadata": {},
   "outputs": [
    {
     "name": "stderr",
     "output_type": "stream",
     "text": [
      "/Users/anapareciendo/anaconda/lib/python3.6/site-packages/numpy/core/numeric.py:190: VisibleDeprecationWarning: using a non-integer number instead of an integer will result in an error in the future\n",
      "  a = empty(shape, dtype, order)\n"
     ]
    },
    {
     "name": "stdout",
     "output_type": "stream",
     "text": [
      "╒══════════╤═══════════════╕\n",
      "│ Ciudad   │   phi(Ciudad) │\n",
      "╞══════════╪═══════════════╡\n",
      "│ Ciudad_0 │        0.7099 │\n",
      "├──────────┼───────────────┤\n",
      "│ Ciudad_1 │        0.2901 │\n",
      "╘══════════╧═══════════════╛\n"
     ]
    }
   ],
   "source": [
    "#Uso de la herramienta VariableElimination para comprobar el correcto resultado usando el ejemplo 2\n",
    "\n",
    "Modelo_re_ev = pgmi.VariableElimination(Modelo_residentevil)\n",
    "consulta = Modelo_re_ev.query(['Ciudad'], {'Agua': 1, 'Refugio': 0})\n",
    "print(consulta['Ciudad'])"
   ]
  },
  {
   "cell_type": "markdown",
   "metadata": {
    "collapsed": true
   },
   "source": [
    "# Heurísticas para el orden de eliminación"
   ]
  },
  {
   "cell_type": "markdown",
   "metadata": {},
   "source": [
    "-__Min Degree__: dado un conjunto de factores, la variable que se decide eliminar es la que está conectada con menos variables en el conjunto de factores. Decimos que una variable está conectada con otra respecto de un conjunto de factores, cuando ambas aparecen en un mismo factor del conjunto.\n",
    "\n",
    "-__Min Fill__: dado un conjunto de factores, la variable que se decide eliminar es aquella que al eliminarse introduciría menos conexiones nuevas (conexiones en el sentido explicado en el punto anterior).\n",
    "\n",
    "-__Min Factor__: dado un conjunto de factores, la variable que se decide eliminar es aquella que al eliminarse produciría el factor más pequeño (es decir, el que menos entradas tendría)."
   ]
  },
  {
   "cell_type": "code",
   "execution_count": 154,
   "metadata": {
    "scrolled": true
   },
   "outputs": [
    {
     "name": "stdout",
     "output_type": "stream",
     "text": [
      "El orden de eliminación usando heurística Min Degree es: [('Lugar', 0)]\n"
     ]
    }
   ],
   "source": [
    "def min_degree(factores, consultas, evidencias):\n",
    "    res = {}\n",
    "    elimina = calcula_elimina(factores, consultas, evidencias)\n",
    "    cont = 0\n",
    "    for e in elimina:\n",
    "        for k,v in factores.items():\n",
    "            if e in v.scope() and len(v.scope()) > 1:\n",
    "                cont=cont+1\n",
    "        res[e] =cont\n",
    "        cont = 0\n",
    "    resultado = sorted(res.items(), key=operator.itemgetter(1))\n",
    "    return resultado\n",
    "    \n",
    "print(\"El orden de eliminación usando heurística Min Degree es:\",\n",
    "      min_degree(factores, consultas, evidencias))"
   ]
  },
  {
   "cell_type": "code",
   "execution_count": 155,
   "metadata": {},
   "outputs": [
    {
     "name": "stdout",
     "output_type": "stream",
     "text": [
      "El orden de eliminación usando heurística Min Fill es: [('Lugar', 1)]\n"
     ]
    }
   ],
   "source": [
    "#El coste de eliminar un nodo es el número de aristas que se añaden al eliminarlo\n",
    "def min_fill(factores, consultas, evidencias):\n",
    "    res = {}\n",
    "    elimina = calcula_elimina(factores, consultas, evidencias)\n",
    "    cont = 0\n",
    "    \n",
    "    for e in elimina:\n",
    "        res[e] = len(list(combinations(Modelo_residentevil.neighbors(e), 2)))\n",
    "    resultado = sorted(res.items(), key=operator.itemgetter(1))\n",
    "    return resultado\n",
    "\n",
    "print(\"El orden de eliminación usando heurística Min Fill es:\",\n",
    "      min_fill(factores, consultas, evidencias))"
   ]
  },
  {
   "cell_type": "markdown",
   "metadata": {},
   "source": [
    "# Recomendador de evidencias"
   ]
  },
  {
   "cell_type": "markdown",
   "metadata": {},
   "source": [
    "El funcionamiento del recomendador es el siguiente:\n",
    "\n",
    "1. Se parte de una inferencia introducida por el usuario (con una variable de consulta y una o más de evidencia). En primer lugar el sistema deberá identificar qué variables de la red son “candidatas” a ser recomendadas-\n",
    "\n",
    "2. Para cada una de dichas variables, y para cada uno de los valores de su correspondiente dominio, se deberá lanzar un algoritmo de inferencia aproximada añadiendo la evidencia en cuestión. (Se repetirán esas inferencias aproximadas varias veces para evitar ruido)\n",
    "\n",
    "3. En base a los resultados obtenidos en el punto anterior, el sistema recomendará al usuario una variable."
   ]
  },
  {
   "cell_type": "code",
   "execution_count": 156,
   "metadata": {
    "collapsed": true
   },
   "outputs": [],
   "source": [
    "import random\n",
    "\n",
    "#Función que devuelve una probabilidad concreta del modelo\n",
    "def seleccionar_probabilidad(cpd, valor, evidencia):\n",
    "    # Buscamos los padres de una evidencia\n",
    "    padres = cpd.evidence if cpd.evidence else []\n",
    "    # Buscamos los valores asociados a los padres\n",
    "    valores_evidencia = tuple(evidencia[var] for var in padres)\n",
    "    # Buscamos los valores de la distribución de probabilidad conjunta\n",
    "    return cpd.values[valor][valores_evidencia]\n",
    "\n",
    "#Función que genera un valor aleatorio según la cardinalidad de la variable\n",
    "def generar_valor_aleatorio(cardinalidad, probabilidades):\n",
    "    p = random.random()\n",
    "    acumuladas = 0\n",
    "    for valor in range(cardinalidad):\n",
    "        acumuladas += probabilidades[valor]\n",
    "        if p <= acumuladas:\n",
    "            return valor"
   ]
  },
  {
   "cell_type": "code",
   "execution_count": 157,
   "metadata": {
    "collapsed": true
   },
   "outputs": [],
   "source": [
    "#Función que genera una muestra aleatoria dada una red bayesiana\n",
    "#Esta función usa las dos anteriores (seleccionar_probabilidad y generar_valor_aleatorio)\n",
    "def muestra_aleatoria(red):\n",
    "    variables = networkx.topological_sort(red)\n",
    "    muestra = {}\n",
    "    for variable in variables:\n",
    "        tabla = Modelo_residentevil.get_cpds(variable)\n",
    "        #TODO: con Lugar no funciona bien, hay que arreglarlo\n",
    "        if variable != 'Lugar':\n",
    "            cardinalidad = tabla.variable_card\n",
    "            probabilidades = [seleccionar_probabilidad(tabla, i, muestra)\n",
    "                            for i in range (cardinalidad)]\n",
    "            valor = generar_valor_aleatorio(cardinalidad, probabilidades)\n",
    "        else:\n",
    "            valor = 0\n",
    "        muestra[variable] = valor\n",
    "        \n",
    "    return muestra"
   ]
  },
  {
   "cell_type": "code",
   "execution_count": 158,
   "metadata": {},
   "outputs": [
    {
     "data": {
      "text/plain": [
       "{'Agua': 0,\n",
       " 'Armas': 1,\n",
       " 'Ciudad': 1,\n",
       " 'Comida': 0,\n",
       " 'Cooperativo': 0,\n",
       " 'Grupo': 1,\n",
       " 'Horda': 0,\n",
       " 'Lugar': 0,\n",
       " 'Medicina': 0,\n",
       " 'Refugio': 0,\n",
       " 'Soldados umbrella': 1,\n",
       " 'Vehiculo': 1}"
      ]
     },
     "execution_count": 158,
     "metadata": {},
     "output_type": "execute_result"
    }
   ],
   "source": [
    "#Probando la función anterior\n",
    "muestra_aleatoria(Modelo_residentevil)"
   ]
  },
  {
   "cell_type": "markdown",
   "metadata": {},
   "source": [
    "El algoritmo de inferencia aproximada elegido para este trabajo a sido __Muestreo por rechazo__.\n",
    "Con el generaremos un número de muestras (en nuestro caso 1000) de las que algunas no serán consistentes con las evidencias y otras si. Estas últimas serán las muestras válidas. De las muestras consistentes con las evidencias (las válidas) debemos distinguir las que tienen la variable de la consulta como un no y las que la tienen como un si.\n"
   ]
  },
  {
   "cell_type": "code",
   "execution_count": 159,
   "metadata": {
    "collapsed": true
   },
   "outputs": [],
   "source": [
    "import itertools\n",
    "\n",
    "#Función que devuelve las frecuencias aplicando el algoritmo de muestreo por rechazo\n",
    "def muestreo_con_rechazo(red, consulta, evidencia, N):\n",
    "    muestras = [muestra_aleatoria(red) for i in range(N)] # Me genenará una muestra de N valores\n",
    "    \n",
    "    # Ahora nos quedamos con aquellas en las que la muestra y la evidencia coinciden\n",
    "    muestrasValidas = []\n",
    "    for muestra in muestras:\n",
    "        if all(muestra[variable] == evidencia[variable]\n",
    "              for variable in evidencia):\n",
    "            muestrasValidas.append(muestra)\n",
    "            \n",
    "    cardinalidades = [red.get_cpds(variable).variable_card\n",
    "                    for variable in consulta]\n",
    "    \n",
    "    # Calculamos las combinaciones \n",
    "    combinaciones = itertools.product(*(range (i)\n",
    "                                       for i in cardinalidades))\n",
    "    \n",
    "    # Ahora contamos las combinaciones, es decir, el nº de veces que ocurre cada cosa\n",
    "    # Recuerda: es un diccionario\n",
    "    frecuencias = {combinacion : 0 \n",
    "                   for combinacion in combinaciones}\n",
    "    \n",
    "    for muestra in muestrasValidas:\n",
    "        combinacion = tuple(muestra[variable]\n",
    "                       for variable in consulta)\n",
    "        frecuencias[combinacion] += 1\n",
    "    \n",
    "    #print (combinaciones)\n",
    "    #print (frecuencias)\n",
    "    #print (len(muestras))\n",
    "    #print (len(muestrasValidas))\n",
    "    return frecuencias"
   ]
  },
  {
   "cell_type": "code",
   "execution_count": 160,
   "metadata": {},
   "outputs": [
    {
     "name": "stdout",
     "output_type": "stream",
     "text": [
      "Las frecuencias son: {(0,): 818, (1,): 2340}\n"
     ]
    }
   ],
   "source": [
    "#Probando la función anterior\n",
    "random.seed(12345)\n",
    "print('Las frecuencias son:',muestreo_con_rechazo(Modelo_residentevil, ['Refugio'], {'Ciudad': 1, 'Cooperativo': 1}, 10000))"
   ]
  },
  {
   "cell_type": "markdown",
   "metadata": {},
   "source": [
    "Usaremos el algoritmo de muestreo por rechazo implementado anteriormente para probar con cada una de las variables __candidatas__ a ser recomendada, y finalmente __será ganaradora aquella que marque una diferencia mayor__ en el calculo de la consulta realizada."
   ]
  },
  {
   "cell_type": "code",
   "execution_count": 161,
   "metadata": {
    "collapsed": true
   },
   "outputs": [],
   "source": [
    "#Función que usa el muestreo por rechazo para calcular la variable que nos aporta una probabilidad más acertada\n",
    "def recomendador(modelo, consulta, evidencias):\n",
    "    k = 0\n",
    "    suma = 0\n",
    "    i = 0\n",
    "    candidatas = []\n",
    "    e = list(evidencias.keys())\n",
    "    nevidencias = {}\n",
    "    res={}\n",
    "    \n",
    "    descartes = descarta(modelo, consulta, e)\n",
    "    nodos = modelo.nodes()\n",
    "    \n",
    "    #Calculamos las candidatas\n",
    "    for n in nodos:\n",
    "        if (n not in consulta) and (n not in e) and (n not in descartes):\n",
    "            candidatas.append(n)\n",
    "   \n",
    "    #Aplicamos muestreo por rechazo con las candidatas con valor 0\n",
    "    for c in candidatas:\n",
    "        nevidencias.update(evidencias)\n",
    "        #Añadimos al diccionario de evidencias la candidata con valor 0\n",
    "        nevidencias[c] = 0\n",
    "        #Llamamos al algoritmo muestreo con rechazo\n",
    "        frecuencias = muestreo_con_rechazo(modelo, consulta, nevidencias, 10000)\n",
    "        #Normalizamos\n",
    "        suma = frecuencias[(0,)] + frecuencias[(1,)]\n",
    "        pno = frecuencias[(0,)] / suma\n",
    "        psi = frecuencias[(1,)] / suma\n",
    "        #Calculamos la diferencia\n",
    "        dif = abs(pno-psi)\n",
    "        #Asignamos la nueva candidata si la diferencia es mayor\n",
    "        if(k < dif):\n",
    "            k = dif\n",
    "            i = 0\n",
    "            r = c\n",
    "        nevidencias.clear()\n",
    "        \n",
    "    #TODO: esto hay que arreglarlo, ya que Lugar no lo coge bien, tengo que borrarla\n",
    "    candidatas.remove('Lugar')\n",
    "    \n",
    "    #Aplicamos muestreo por rechazo con las candidatas con valor 1\n",
    "    for c in candidatas:\n",
    "        nevidencias.update(evidencias)\n",
    "        #Añadimos al diccionario de evidencias la candidata con valor 1\n",
    "        nevidencias[c] = 1\n",
    "        #Llamamos al algoritmo muestreo con rechazo\n",
    "        frecuencias = muestreo_con_rechazo(modelo, consulta, nevidencias, 10000)\n",
    "        #Normalizamos\n",
    "        suma = frecuencias[(0,)] + frecuencias[(1,)]\n",
    "        pno = frecuencias[(0,)] / suma\n",
    "        psi = frecuencias[(1,)] / suma\n",
    "        #Calculamos la diferencia\n",
    "        dif = abs(pno-psi)\n",
    "        #Asignamos la nueva candidata si la diferencia es mayor\n",
    "        if(k < dif):\n",
    "            k = dif\n",
    "            i = 1\n",
    "            r = c\n",
    "        nevidencias.clear()\n",
    "    \n",
    "    #Devolvemos la variable candidata cuya diferencia es mayor como recomendación\n",
    "    \n",
    "    res[r] = i\n",
    "    return res"
   ]
  },
  {
   "cell_type": "markdown",
   "metadata": {},
   "source": [
    "__Ejemplo 1__: Probabilidad de Refugio sabiendo que si Ciudad y si Cooperativo. "
   ]
  },
  {
   "cell_type": "code",
   "execution_count": 162,
   "metadata": {},
   "outputs": [
    {
     "name": "stdout",
     "output_type": "stream",
     "text": [
      "La variable recomendada es: {'Grupo': 0}\n"
     ]
    }
   ],
   "source": [
    "#Probando el recomendador con el ejemplo 1\n",
    "vr = recomendador(Modelo_residentevil, ['Refugio'], {'Ciudad': 1, 'Cooperativo': 1})\n",
    "print('La variable recomendada es:',vr)"
   ]
  },
  {
   "cell_type": "markdown",
   "metadata": {},
   "source": [
    "__Ejemplo 2__: Probabilidad de Ciudad sabiendo que si Agua y no Refugio. "
   ]
  },
  {
   "cell_type": "code",
   "execution_count": 163,
   "metadata": {},
   "outputs": [
    {
     "name": "stdout",
     "output_type": "stream",
     "text": [
      "La variable recomendada es: {'Lugar': 0}\n"
     ]
    }
   ],
   "source": [
    "#Probando el recomendador con el ejemplo 2\n",
    "vr = recomendador(Modelo_residentevil, ['Ciudad'], {'Agua': 1, 'Refugio': 0})\n",
    "print('La variable recomendada es:',vr)"
   ]
  }
 ],
 "metadata": {
  "kernelspec": {
   "display_name": "Python 3",
   "language": "python",
   "name": "python3"
  },
  "language_info": {
   "codemirror_mode": {
    "name": "ipython",
    "version": 3
   },
   "file_extension": ".py",
   "mimetype": "text/x-python",
   "name": "python",
   "nbconvert_exporter": "python",
   "pygments_lexer": "ipython3",
   "version": "3.6.0"
  }
 },
 "nbformat": 4,
 "nbformat_minor": 2
}
