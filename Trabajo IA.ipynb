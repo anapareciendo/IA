{
 "cells": [
  {
   "cell_type": "markdown",
   "metadata": {},
   "source": [
    "# Redes bayesianas - Resident Evil"
   ]
  },
  {
   "cell_type": "code",
   "execution_count": 39,
   "metadata": {
    "collapsed": true
   },
   "outputs": [],
   "source": [
    "import networkx  # Permite trabajar con grafos\n",
    "import pgmpy.models as pgmm  # Modelos gráficos de probabilidad\n",
    "import pgmpy.factors as pgmf  # Tablas de probabilidades condicionales y\n",
    "                              # potenciales de probabilidad\n",
    "import pgmpy.inference as pgmi  # Inferencia probabilística exacta"
   ]
  },
  {
   "cell_type": "code",
   "execution_count": 40,
   "metadata": {
    "collapsed": false
   },
   "outputs": [],
   "source": [
    "import pgmpy.readwrite.XMLBIF as rwBIF\n",
    "\n",
    "reader = rwBIF.XMLBIFReader('residentevil.xml')\n",
    "Modelo_residentevil = reader.get_model()"
   ]
  },
  {
   "cell_type": "code",
   "execution_count": 41,
   "metadata": {
    "collapsed": false
   },
   "outputs": [
    {
     "data": {
      "text/html": [
       "<table><caption>TabularCPD for <b>Horda</b></caption><tr><td><b>Lugar</b></td><td colspan=2>Lugar_0</td><td colspan=2>Lugar_1</td><td colspan=2>Lugar_2</td></tr><tr><td><b>Ciudad</b></td><td colspan=1>Ciudad_0</td><td colspan=1>Ciudad_1</td><td colspan=1>Ciudad_0</td><td colspan=1>Ciudad_1</td><td colspan=1>Ciudad_0</td><td colspan=1>Ciudad_1</td></tr><tr><td><b>Horda_0</b></td><td>0.6000</td><td>0.3000</td><td>0.3000</td><td>0.2000</td><td>0.4000</td><td>0.3000</td></tr><tr><td><b>Horda_1</b></td><td>0.4000</td><td>0.7000</td><td>0.7000</td><td>0.8000</td><td>0.6000</td><td>0.7000</td></tr></table>"
      ],
      "text/plain": [
       "<TabularCPD representing P(Horda:2 | Ciudad:2, Lugar:3) at 0x11b956ac8>"
      ]
     },
     "execution_count": 41,
     "metadata": {},
     "output_type": "execute_result"
    }
   ],
   "source": [
    "Modelo_residentevil.cpds[2]"
   ]
  },
  {
   "cell_type": "code",
   "execution_count": 64,
   "metadata": {
    "collapsed": false
   },
   "outputs": [
    {
     "name": "stderr",
     "output_type": "stream",
     "text": [
      "/Users/anapareciendo/anaconda/lib/python3.6/site-packages/numpy/core/numeric.py:190: VisibleDeprecationWarning: using a non-integer number instead of an integer will result in an error in the future\n",
      "  a = empty(shape, dtype, order)\n"
     ]
    },
    {
     "data": {
      "text/plain": [
       "True"
      ]
     },
     "execution_count": 64,
     "metadata": {},
     "output_type": "execute_result"
    }
   ],
   "source": [
    "Modelo_residentevil.check_model()\n",
    "\n"
   ]
  },
  {
   "cell_type": "code",
   "execution_count": 43,
   "metadata": {
    "collapsed": false
   },
   "outputs": [
    {
     "data": {
      "text/plain": [
       "['Horda', 'Agua', 'Comida', 'Vehiculo', 'Armas', 'Soldados umbrella']"
      ]
     },
     "execution_count": 43,
     "metadata": {},
     "output_type": "execute_result"
    }
   ],
   "source": [
    "#Función que descarta las variables irrelevantes\n",
    "\n",
    "def descarta(m, c, e):\n",
    "    lista = c+e\n",
    "    descartados = []\n",
    "    padres = []\n",
    "    for l in lista:\n",
    "        subgrafo = Modelo_residentevil.subgraph(networkx.ancestors(Modelo_residentevil, l))\n",
    "        for s in subgrafo:\n",
    "            padres.append(s)\n",
    "                          \n",
    "    for n in m.nodes():\n",
    "        if n not in lista and n not in padres:\n",
    "            descartados.append(n)\n",
    "                  \n",
    "    return descartados  \n",
    "\n",
    "consulta = []\n",
    "consulta.append(\"Refugio\")\n",
    "evidencias = []\n",
    "evidencias.append(\"Cooperativo\")\n",
    "evidencias.append(\"Medicina\")\n",
    "descarta(Modelo_residentevil,consulta,evidencias)"
   ]
  },
  {
   "cell_type": "code",
   "execution_count": 44,
   "metadata": {
    "collapsed": true
   },
   "outputs": [],
   "source": [
    "#Función que devuelve los factores iniciales\n",
    "\n",
    "def factores_iniciales(m):\n",
    "    d = descarta(m,consulta,evidencias)\n",
    "    c = 0\n",
    "    factores = []\n",
    "    for n in m.nodes():\n",
    "        if n not in d:\n",
    "            factores.append(m.cpds[c].to_factor())\n",
    "        c+=1\n",
    "    return factores\n"
   ]
  },
  {
   "cell_type": "code",
   "execution_count": 61,
   "metadata": {
    "collapsed": false
   },
   "outputs": [
    {
     "name": "stdout",
     "output_type": "stream",
     "text": [
      "╒═══════════╤════════════════╕\n",
      "│ Refugio   │   phi(Refugio) │\n",
      "╞═══════════╪════════════════╡\n",
      "│ Refugio_0 │         0.8889 │\n",
      "├───────────┼────────────────┤\n",
      "│ Refugio_1 │         0.1111 │\n",
      "╘═══════════╧════════════════╛\n"
     ]
    },
    {
     "name": "stderr",
     "output_type": "stream",
     "text": [
      "/Users/anapareciendo/anaconda/lib/python3.6/site-packages/numpy/core/numeric.py:190: VisibleDeprecationWarning: using a non-integer number instead of an integer will result in an error in the future\n",
      "  a = empty(shape, dtype, order)\n"
     ]
    }
   ],
   "source": [
    "#Eliminación de variables: Uso de la clase VariableElimination\n",
    "\n",
    "Modelo_re_ev = pgmi.VariableElimination(Modelo_residentevil)\n",
    "consulta = Modelo_re_ev.query(['Refugio'], {'Ciudad': 0, 'Cooperativo': 0})\n",
    "print(consulta['Refugio'])"
   ]
  },
  {
   "cell_type": "code",
   "execution_count": null,
   "metadata": {
    "collapsed": true
   },
   "outputs": [],
   "source": []
  }
 ],
 "metadata": {
  "kernelspec": {
   "display_name": "Python 3",
   "language": "python",
   "name": "python3"
  },
  "language_info": {
   "codemirror_mode": {
    "name": "ipython",
    "version": 3
   },
   "file_extension": ".py",
   "mimetype": "text/x-python",
   "name": "python",
   "nbconvert_exporter": "python",
   "pygments_lexer": "ipython3",
   "version": "3.6.0"
  }
 },
 "nbformat": 4,
 "nbformat_minor": 2
}
