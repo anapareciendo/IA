{
 "cells": [
  {
   "cell_type": "markdown",
   "metadata": {},
   "source": [
    "# Redes bayesianas - Resident Evil"
   ]
  },
  {
   "cell_type": "markdown",
   "metadata": {},
   "source": [
    "En este trabajo usaremos una red bayesiana construida por nosotros. Esta red se basa en un contexto imaginario del mundo de __Resident Evil__. Esta pensada con el objetivo de que un superviviente pueda saber cuales son sus posibilidades de mantenerse con vida teniendo en cuenta los recursos y otras variables del universo.\n",
    "\n",
    "Para la realización de la red se ha usado la herramienta __Weka__. \n",
    "Una vez construida, se ha exportado en formato .xml y retocado para que el método de pgmpy la lea correctamente.\n",
    "\n",
    "El grafo de la red es el que se muestra a continuación:\n",
    "\n",
    "<img src='G_RE.png' width=700 height=463>"
   ]
  },
  {
   "cell_type": "markdown",
   "metadata": {},
   "source": [
    "Para poder trabajar con redes bayesianas usaremos el paquete __pgmpy__. Lo primero que haremos será importar el paquete y las herramientas necesarias."
   ]
  },
  {
   "cell_type": "code",
   "execution_count": 223,
   "metadata": {
    "collapsed": true
   },
   "outputs": [],
   "source": [
    "#Importamos el paquete pgmpy y las herramientras necesarias\n",
    "\n",
    "import networkx  # Permite trabajar con grafos\n",
    "import pgmpy.models as pgmm  # Modelos gráficos de probabilidad\n",
    "import pgmpy.factors as pgmf  # Tablas de probabilidades condicionales y\n",
    "                              # potenciales de probabilidad\n",
    "import pgmpy.inference as pgmi  # Inferencia probabilística exacta"
   ]
  },
  {
   "cell_type": "markdown",
   "metadata": {},
   "source": [
    "Además, para leer ficheros con extensión __.XMLBIF__ necesitaremos importar la herramienta __readerwrite.XMLBIF__ de pgmpy."
   ]
  },
  {
   "cell_type": "code",
   "execution_count": 191,
   "metadata": {
    "collapsed": false
   },
   "outputs": [],
   "source": [
    "import pgmpy.readwrite.XMLBIF as rwBIF\n",
    "\n",
    "reader = rwBIF.XMLBIFReader('residentevil.xml')\n",
    "Modelo_residentevil = reader.get_model()"
   ]
  },
  {
   "cell_type": "markdown",
   "metadata": {},
   "source": [
    "Vamos a ver los __nodos, aristas__ y __tablas__ de la red:"
   ]
  },
  {
   "cell_type": "code",
   "execution_count": 168,
   "metadata": {
    "collapsed": false
   },
   "outputs": [
    {
     "data": {
      "text/plain": [
       "['Lugar',\n",
       " 'Ciudad',\n",
       " 'Horda',\n",
       " 'Medicina',\n",
       " 'Agua',\n",
       " 'Comida',\n",
       " 'Refugio',\n",
       " 'Vehiculo',\n",
       " 'Armas',\n",
       " 'Grupo',\n",
       " 'Soldados umbrella',\n",
       " 'Cooperativo']"
      ]
     },
     "execution_count": 168,
     "metadata": {},
     "output_type": "execute_result"
    }
   ],
   "source": [
    "#Nodos de la red\n",
    "Modelo_residentevil.nodes()"
   ]
  },
  {
   "cell_type": "code",
   "execution_count": 167,
   "metadata": {
    "collapsed": false
   },
   "outputs": [
    {
     "data": {
      "text/plain": [
       "[('Lugar', 'Ciudad'),\n",
       " ('Lugar', 'Horda'),\n",
       " ('Ciudad', 'Horda'),\n",
       " ('Ciudad', 'Medicina'),\n",
       " ('Ciudad', 'Agua'),\n",
       " ('Ciudad', 'Comida'),\n",
       " ('Ciudad', 'Refugio'),\n",
       " ('Ciudad', 'Vehiculo'),\n",
       " ('Ciudad', 'Armas'),\n",
       " ('Ciudad', 'Grupo'),\n",
       " ('Ciudad', 'Soldados umbrella'),\n",
       " ('Refugio', 'Cooperativo'),\n",
       " ('Grupo', 'Cooperativo')]"
      ]
     },
     "execution_count": 167,
     "metadata": {},
     "output_type": "execute_result"
    }
   ],
   "source": [
    "#Aristas de la red\n",
    "Modelo_residentevil.edges()"
   ]
  },
  {
   "cell_type": "code",
   "execution_count": 193,
   "metadata": {
    "collapsed": false
   },
   "outputs": [
    {
     "data": {
      "text/plain": [
       "[<TabularCPD representing P(Lugar:3) at 0x10e01b278>,\n",
       " <TabularCPD representing P(Ciudad:2 | Lugar:3) at 0x10e01bf60>,\n",
       " <TabularCPD representing P(Horda:2 | Ciudad:2, Lugar:3) at 0x10e01b080>,\n",
       " <TabularCPD representing P(Medicina:2 | Ciudad:2) at 0x10e01bd68>,\n",
       " <TabularCPD representing P(Agua:2 | Ciudad:2) at 0x10e0aa898>,\n",
       " <TabularCPD representing P(Comida:2 | Ciudad:2) at 0x10e0b8940>,\n",
       " <TabularCPD representing P(Refugio:2 | Ciudad:2) at 0x10e09d7b8>,\n",
       " <TabularCPD representing P(Vehiculo:2 | Ciudad:2) at 0x10443e550>,\n",
       " <TabularCPD representing P(Armas:2 | Ciudad:2) at 0x10dd8d748>,\n",
       " <TabularCPD representing P(Grupo:2 | Ciudad:2) at 0x10dd8d668>,\n",
       " <TabularCPD representing P(Soldados umbrella:2 | Ciudad:2) at 0x10dd8dd68>,\n",
       " <TabularCPD representing P(Cooperativo:2 | Refugio:2, Grupo:2) at 0x10dd8d710>]"
      ]
     },
     "execution_count": 193,
     "metadata": {},
     "output_type": "execute_result"
    }
   ],
   "source": [
    "#CPDS de la red\n",
    "Modelo_residentevil.cpds"
   ]
  },
  {
   "cell_type": "markdown",
   "metadata": {},
   "source": [
    "Y por último, es necesario comprobar que la red no tiene errores de construcción. Para ello empleamos el método __check_model__ de pgmpy:"
   ]
  },
  {
   "cell_type": "code",
   "execution_count": 173,
   "metadata": {
    "collapsed": false
   },
   "outputs": [
    {
     "name": "stderr",
     "output_type": "stream",
     "text": [
      "/Users/anapareciendo/anaconda/lib/python3.6/site-packages/numpy/core/numeric.py:190: VisibleDeprecationWarning: using a non-integer number instead of an integer will result in an error in the future\n",
      "  a = empty(shape, dtype, order)\n"
     ]
    },
    {
     "data": {
      "text/plain": [
       "True"
      ]
     },
     "execution_count": 173,
     "metadata": {},
     "output_type": "execute_result"
    }
   ],
   "source": [
    "#Comprueba que el modelo no contiene errores, en caso de ser correcto devuelve True.\n",
    "Modelo_residentevil.check_model()"
   ]
  },
  {
   "cell_type": "markdown",
   "metadata": {},
   "source": [
    "# Eliminación de variables"
   ]
  },
  {
   "cell_type": "markdown",
   "metadata": {},
   "source": [
    "Una vez tenemos la red construida y cargada, vamos a diseñar el algoritmo de __eliminación de variables__. Se han seguido los siguientes pasos:\n",
    "\n",
    "1. Descartar las variables irrelevantes para la consulta antes de comen- zar (mostrando un mensaje con la lista de variables descartadas).\n",
    "2. Obtener todos los factores iniciales a partir de la red, ignorando las variables descartadas y teniendo en cuenta las evidencias.\n",
    "3. Eliminar las variables ocultas, a través de las correspondientes ope- raciones sobre los factores.\n",
    "4. Multiplicar los factores finales (en caso de que haya más de uno).\n",
    "5. Normalizar.\n",
    "\n",
    "La consulta utiliza como ejemplo durante el desarrollo del algoritmo ha sido: la probabilidad de que __Refugio__ sea __verdadero__, sabiendo que __Ciudad__ y __Cooperativo__ son __verdaderos__.\n",
    "\n",
    "Finalmente, con el fin de comprobar la correcta implementación del algoritmo, se ha usado una herramienta __VariableElimination__ incluida en pgmpy que aplica directamente dicho algoritmo."
   ]
  },
  {
   "cell_type": "code",
   "execution_count": 180,
   "metadata": {
    "collapsed": false
   },
   "outputs": [],
   "source": [
    "#Paso 1: Función que descarta las variables irrelevantes.\n",
    "\n",
    "\n",
    "def descarta(m, c, e):\n",
    "    lista = c+e\n",
    "    descartados = []\n",
    "    padres = []\n",
    "    for l in lista:\n",
    "        subgrafo = Modelo_residentevil.subgraph(networkx.ancestors(Modelo_residentevil, l))\n",
    "        for s in subgrafo:\n",
    "            padres.append(s)\n",
    "                          \n",
    "    for n in m.nodes():\n",
    "        if n not in lista and n not in padres:\n",
    "            descartados.append(n)\n",
    "                  \n",
    "    return descartados  "
   ]
  },
  {
   "cell_type": "code",
   "execution_count": 181,
   "metadata": {
    "collapsed": false
   },
   "outputs": [
    {
     "data": {
      "text/plain": [
       "['Horda',\n",
       " 'Medicina',\n",
       " 'Agua',\n",
       " 'Comida',\n",
       " 'Vehiculo',\n",
       " 'Armas',\n",
       " 'Soldados umbrella']"
      ]
     },
     "execution_count": 181,
     "metadata": {},
     "output_type": "execute_result"
    }
   ],
   "source": [
    "#Construcción del ejemplo (probabilidad de Refugio sabiendo que Ciudad y Cooperativo) y llamada a la función descarta\n",
    "consulta = []\n",
    "consulta.append(\"Refugio\")\n",
    "evidencias = []\n",
    "evidencias.append(\"Ciudad\")\n",
    "evidencias.append(\"Cooperativo\")\n",
    "\n",
    "descarta(Modelo_residentevil,consulta,evidencias)"
   ]
  },
  {
   "cell_type": "code",
   "execution_count": 183,
   "metadata": {
    "collapsed": false
   },
   "outputs": [],
   "source": [
    "#Paso 2: Función que devuelve los factores iniciales reducidos según las evidencias.\n",
    "\n",
    "def factores_iniciales(m,d,e):\n",
    "    c = 0\n",
    "    factores = {}\n",
    "    for n in m.nodes():\n",
    "        if n not in d:\n",
    "            factores[n]= m.cpds[c].to_factor()     \n",
    "        c+=1\n",
    "    for k,v in factores.items():\n",
    "        for i in v.scope():\n",
    "            if i in e:\n",
    "                v = v.reduce([(i, e[i])])\n",
    "        \n",
    "    return factores"
   ]
  },
  {
   "cell_type": "code",
   "execution_count": 184,
   "metadata": {
    "collapsed": false
   },
   "outputs": [
    {
     "name": "stdout",
     "output_type": "stream",
     "text": [
      "Lugar\n",
      "['Lugar']\n",
      "╒═════════╤══════════════╕\n",
      "│ Lugar   │   phi(Lugar) │\n",
      "╞═════════╪══════════════╡\n",
      "│ Lugar_0 │       0.3000 │\n",
      "├─────────┼──────────────┤\n",
      "│ Lugar_1 │       0.2000 │\n",
      "├─────────┼──────────────┤\n",
      "│ Lugar_2 │       0.5000 │\n",
      "╘═════════╧══════════════╛\n",
      "Ciudad\n",
      "['Lugar']\n",
      "╒═════════╤══════════════╕\n",
      "│ Lugar   │   phi(Lugar) │\n",
      "╞═════════╪══════════════╡\n",
      "│ Lugar_0 │       0.4000 │\n",
      "├─────────┼──────────────┤\n",
      "│ Lugar_1 │       0.8000 │\n",
      "├─────────┼──────────────┤\n",
      "│ Lugar_2 │       0.2000 │\n",
      "╘═════════╧══════════════╛\n",
      "Refugio\n",
      "['Refugio']\n",
      "╒═══════════╤════════════════╕\n",
      "│ Refugio   │   phi(Refugio) │\n",
      "╞═══════════╪════════════════╡\n",
      "│ Refugio_0 │         0.4000 │\n",
      "├───────────┼────────────────┤\n",
      "│ Refugio_1 │         0.6000 │\n",
      "╘═══════════╧════════════════╛\n",
      "Grupo\n",
      "['Grupo']\n",
      "╒═════════╤══════════════╕\n",
      "│ Grupo   │   phi(Grupo) │\n",
      "╞═════════╪══════════════╡\n",
      "│ Grupo_0 │       0.2000 │\n",
      "├─────────┼──────────────┤\n",
      "│ Grupo_1 │       0.8000 │\n",
      "╘═════════╧══════════════╛\n",
      "Cooperativo\n",
      "['Grupo', 'Refugio']\n",
      "╒═════════╤═══════════╤══════════════════════╕\n",
      "│ Grupo   │ Refugio   │   phi(Grupo,Refugio) │\n",
      "╞═════════╪═══════════╪══════════════════════╡\n",
      "│ Grupo_0 │ Refugio_0 │               0.2000 │\n",
      "├─────────┼───────────┼──────────────────────┤\n",
      "│ Grupo_0 │ Refugio_1 │               0.6000 │\n",
      "├─────────┼───────────┼──────────────────────┤\n",
      "│ Grupo_1 │ Refugio_0 │               1.0000 │\n",
      "├─────────┼───────────┼──────────────────────┤\n",
      "│ Grupo_1 │ Refugio_1 │               1.0000 │\n",
      "╘═════════╧═══════════╧══════════════════════╛\n"
     ]
    }
   ],
   "source": [
    "#Llamada a la función factores_iniciales\n",
    "d = descarta(Modelo_residentevil, consulta, evidencias)\n",
    "e = {'Ciudad':1, 'Cooperativo':1}\n",
    "factores = factores_iniciales(Modelo_residentevil,d,e)\n",
    "\n",
    "for clave, valor in factores.items():\n",
    "    print(clave)\n",
    "    print(valor.scope())\n",
    "    print(valor)"
   ]
  },
  {
   "cell_type": "code",
   "execution_count": 185,
   "metadata": {
    "collapsed": false
   },
   "outputs": [],
   "source": [
    "#Paso 3: Función que elimina las variables ocultas.\n",
    "\n",
    "def eliminar_variables(factores, consultas, evidencias):\n",
    "    eliminar = []\n",
    "    res = {}\n",
    "    for k,v in factores.items():\n",
    "        if k not in consultas and k not in evidencias:\n",
    "            eliminar.append(k)\n",
    "    \n",
    "    for e in eliminar:\n",
    "        for k,v in factores.items():\n",
    "            if e in v.scope() and len(v.scope()) > 1:\n",
    "                phi_not = pgmf.factor_product(factores[e],v)\n",
    "                phi_not.marginalize([e])\n",
    "                factores[k] = phi_not\n",
    "    for k,v in factores.items():\n",
    "        for i in v.scope():\n",
    "            if i in consultas:\n",
    "                res[k] = v\n",
    "        \n",
    "    return res\n",
    "        \n",
    "\n"
   ]
  },
  {
   "cell_type": "code",
   "execution_count": 186,
   "metadata": {
    "collapsed": false
   },
   "outputs": [
    {
     "name": "stdout",
     "output_type": "stream",
     "text": [
      "Refugio\n",
      "['Refugio']\n",
      "╒═══════════╤════════════════╕\n",
      "│ Refugio   │   phi(Refugio) │\n",
      "╞═══════════╪════════════════╡\n",
      "│ Refugio_0 │         0.4000 │\n",
      "├───────────┼────────────────┤\n",
      "│ Refugio_1 │         0.6000 │\n",
      "╘═══════════╧════════════════╛\n",
      "Cooperativo\n",
      "['Refugio']\n",
      "╒═══════════╤════════════════╕\n",
      "│ Refugio   │   phi(Refugio) │\n",
      "╞═══════════╪════════════════╡\n",
      "│ Refugio_0 │         0.8400 │\n",
      "├───────────┼────────────────┤\n",
      "│ Refugio_1 │         0.9200 │\n",
      "╘═══════════╧════════════════╛\n"
     ]
    }
   ],
   "source": [
    "#Llamada a la función eliminar_variables\n",
    "\n",
    "consultas = []\n",
    "consultas.append(\"Refugio\")\n",
    "evidencias = []\n",
    "evidencias.append(\"Ciudad\")\n",
    "evidencias.append(\"Cooperativo\")\n",
    "\n",
    "d = descarta(Modelo_residentevil, consultas, evidencias)\n",
    "e = {'Ciudad':1, 'Cooperativo':1}\n",
    "\n",
    "factores = factores_iniciales(Modelo_residentevil,d,e)\n",
    "\n",
    "prueba = eliminar_variables(factores,consultas,evidencias)\n",
    "          \n",
    "for k,v in prueba.items():\n",
    "    print(k)\n",
    "    print(v.scope())\n",
    "    print(v)"
   ]
  },
  {
   "cell_type": "code",
   "execution_count": 188,
   "metadata": {
    "collapsed": false
   },
   "outputs": [],
   "source": [
    "#Paso 4 y 5: Función que multiplica y normaliza los factores restantes.\n",
    "\n",
    "def mn_factores(factores):\n",
    "    m = []\n",
    "    for k,v in factores.items():\n",
    "        if not not v.scope():\n",
    "            m.append(v)\n",
    "        \n",
    "    phi = pgmf.factor_product(*m)\n",
    "    phi.normalize()\n",
    "    \n",
    "    return phi"
   ]
  },
  {
   "cell_type": "code",
   "execution_count": 189,
   "metadata": {
    "collapsed": false
   },
   "outputs": [
    {
     "name": "stdout",
     "output_type": "stream",
     "text": [
      "╒═══════════╤════════════════╕\n",
      "│ Refugio   │   phi(Refugio) │\n",
      "╞═══════════╪════════════════╡\n",
      "│ Refugio_0 │         0.3784 │\n",
      "├───────────┼────────────────┤\n",
      "│ Refugio_1 │         0.6216 │\n",
      "╘═══════════╧════════════════╛\n"
     ]
    }
   ],
   "source": [
    "#Llamada a la función mn_factores\n",
    "end = mn_factores(eliminar_variables(factores,consultas,evidencias))\n",
    "print(end)"
   ]
  },
  {
   "cell_type": "code",
   "execution_count": 211,
   "metadata": {
    "collapsed": false
   },
   "outputs": [
    {
     "name": "stdout",
     "output_type": "stream",
     "text": [
      "╒═══════════╤════════════════╕\n",
      "│ Refugio   │   phi(Refugio) │\n",
      "╞═══════════╪════════════════╡\n",
      "│ Refugio_0 │         0.3784 │\n",
      "├───────────┼────────────────┤\n",
      "│ Refugio_1 │         0.6216 │\n",
      "╘═══════════╧════════════════╛\n"
     ]
    },
    {
     "name": "stderr",
     "output_type": "stream",
     "text": [
      "/Users/anapareciendo/anaconda/lib/python3.6/site-packages/numpy/core/numeric.py:190: VisibleDeprecationWarning: using a non-integer number instead of an integer will result in an error in the future\n",
      "  a = empty(shape, dtype, order)\n"
     ]
    }
   ],
   "source": [
    "#Uso de la herramienta VariableElimination para comprobar el algoritmo anteriormente implementado.\n",
    "\n",
    "Modelo_re_ev = pgmi.VariableElimination(Modelo_residentevil)\n",
    "consulta = Modelo_re_ev.query(['Refugio'], {'Ciudad': 1, 'Cooperativo': 1})\n",
    "print(consulta['Refugio'])"
   ]
  },
  {
   "cell_type": "markdown",
   "metadata": {
    "collapsed": true
   },
   "source": [
    "# Heurísticas para el orden de eliminación"
   ]
  },
  {
   "cell_type": "markdown",
   "metadata": {},
   "source": [
    "-__Min Degree__: dado un conjunto de factores, la variable que se decide eliminar es la que está conectada con menos variables en el conjunto de factores. Decimos que una variable está conectada con otra respecto de un conjunto de factores, cuando ambas aparecen en un mismo factor del conjunto.\n",
    "\n",
    "-__Min Fill__: dado un conjunto de factores, la variable que se decide eliminar es aquella que al eliminarse introduciría menos conexiones nuevas (conexiones en el sentido explicado en el punto anterior).\n",
    "\n",
    "-__Min Factor__: dado un conjunto de factores, la variable que se decide eliminar es aquella que al eliminarse produciría el factor más pequeño (es decir, el que menos entradas tendría)."
   ]
  },
  {
   "cell_type": "code",
   "execution_count": 224,
   "metadata": {
    "collapsed": false
   },
   "outputs": [],
   "source": [
    "import EliminationOrder\n",
    "from EliminationOrder import MinFill\n"
   ]
  }
 ],
 "metadata": {
  "kernelspec": {
   "display_name": "Python 3",
   "language": "python",
   "name": "python3"
  },
  "language_info": {
   "codemirror_mode": {
    "name": "ipython",
    "version": 3
   },
   "file_extension": ".py",
   "mimetype": "text/x-python",
   "name": "python",
   "nbconvert_exporter": "python",
   "pygments_lexer": "ipython3",
   "version": "3.6.0"
  }
 },
 "nbformat": 4,
 "nbformat_minor": 2
}
