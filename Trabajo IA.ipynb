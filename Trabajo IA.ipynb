{
 "cells": [
  {
   "cell_type": "markdown",
   "metadata": {},
   "source": [
    "# Redes bayesianas - Resident Evil"
   ]
  },
  {
   "cell_type": "code",
   "execution_count": 10,
   "metadata": {
    "collapsed": true
   },
   "outputs": [],
   "source": [
    "import networkx  # Permite trabajar con grafos\n",
    "import pgmpy.models as pgmm  # Modelos gráficos de probabilidad\n",
    "import pgmpy.factors as pgmf  # Tablas de probabilidades condicionales y\n",
    "                              # potenciales de probabilidad\n",
    "import pgmpy.inference as pgmi  # Inferencia probabilística exacta"
   ]
  },
  {
   "cell_type": "code",
   "execution_count": 11,
   "metadata": {
    "collapsed": false
   },
   "outputs": [],
   "source": [
    "import pgmpy.readwrite.XMLBIF as rwBIF\n",
    "\n",
    "reader = rwBIF.XMLBIFReader('residentevil.xml')\n",
    "Modelo_residentevil = reader.get_model()"
   ]
  },
  {
   "cell_type": "code",
   "execution_count": 68,
   "metadata": {
    "collapsed": false
   },
   "outputs": [
    {
     "data": {
      "text/html": [
       "<table><caption>TabularCPD for <b>Cooperativo</b></caption><tr><td><b>Grupo</b></td><td colspan=2>Grupo_0</td><td colspan=2>Grupo_1</td></tr><tr><td><b>Refugio</b></td><td colspan=1>Refugio_0</td><td colspan=1>Refugio_1</td><td colspan=1>Refugio_0</td><td colspan=1>Refugio_1</td></tr><tr><td><b>Cooperativo_0</b></td><td>0.8000</td><td>0.4000</td><td>0.0000</td><td>0.0000</td></tr><tr><td><b>Cooperativo_1</b></td><td>0.2000</td><td>0.6000</td><td>1.0000</td><td>1.0000</td></tr></table>"
      ],
      "text/plain": [
       "<TabularCPD representing P(Cooperativo:2 | Refugio:2, Grupo:2) at 0x10dd96ba8>"
      ]
     },
     "execution_count": 68,
     "metadata": {},
     "output_type": "execute_result"
    }
   ],
   "source": [
    "Modelo_residentevil.cpds[11]"
   ]
  },
  {
   "cell_type": "code",
   "execution_count": 6,
   "metadata": {
    "collapsed": false
   },
   "outputs": [
    {
     "name": "stderr",
     "output_type": "stream",
     "text": [
      "/Users/anapareciendo/anaconda/lib/python3.6/site-packages/numpy/core/numeric.py:190: VisibleDeprecationWarning: using a non-integer number instead of an integer will result in an error in the future\n",
      "  a = empty(shape, dtype, order)\n"
     ]
    },
    {
     "data": {
      "text/plain": [
       "True"
      ]
     },
     "execution_count": 6,
     "metadata": {},
     "output_type": "execute_result"
    }
   ],
   "source": [
    "Modelo_residentevil.check_model()\n",
    "\n"
   ]
  },
  {
   "cell_type": "code",
   "execution_count": 80,
   "metadata": {
    "collapsed": false
   },
   "outputs": [
    {
     "data": {
      "text/plain": [
       "['Horda',\n",
       " 'Medicina',\n",
       " 'Agua',\n",
       " 'Comida',\n",
       " 'Vehiculo',\n",
       " 'Armas',\n",
       " 'Soldados umbrella']"
      ]
     },
     "execution_count": 80,
     "metadata": {},
     "output_type": "execute_result"
    }
   ],
   "source": [
    "#Función que descarta las variables irrelevantes\n",
    "\n",
    "def descarta(m, c, e):\n",
    "    lista = c+e\n",
    "    descartados = []\n",
    "    padres = []\n",
    "    for l in lista:\n",
    "        subgrafo = Modelo_residentevil.subgraph(networkx.ancestors(Modelo_residentevil, l))\n",
    "        for s in subgrafo:\n",
    "            padres.append(s)\n",
    "                          \n",
    "    for n in m.nodes():\n",
    "        if n not in lista and n not in padres:\n",
    "            descartados.append(n)\n",
    "                  \n",
    "    return descartados  \n",
    "\n",
    "consulta = []\n",
    "consulta.append(\"Refugio\")\n",
    "evidencias = []\n",
    "evidencias.append(\"Ciudad\")\n",
    "evidencias.append(\"Cooperativo\")\n",
    "\n",
    "descarta(Modelo_residentevil,consulta,evidencias)"
   ]
  },
  {
   "cell_type": "code",
   "execution_count": 95,
   "metadata": {
    "collapsed": false
   },
   "outputs": [
    {
     "name": "stdout",
     "output_type": "stream",
     "text": [
      "Lugar\n",
      "['Lugar']\n",
      "╒═════════╤══════════════╕\n",
      "│ Lugar   │   phi(Lugar) │\n",
      "╞═════════╪══════════════╡\n",
      "│ Lugar_0 │       0.3000 │\n",
      "├─────────┼──────────────┤\n",
      "│ Lugar_1 │       0.2000 │\n",
      "├─────────┼──────────────┤\n",
      "│ Lugar_2 │       0.5000 │\n",
      "╘═════════╧══════════════╛\n",
      "Ciudad\n",
      "['Lugar']\n",
      "╒═════════╤══════════════╕\n",
      "│ Lugar   │   phi(Lugar) │\n",
      "╞═════════╪══════════════╡\n",
      "│ Lugar_0 │       0.4000 │\n",
      "├─────────┼──────────────┤\n",
      "│ Lugar_1 │       0.8000 │\n",
      "├─────────┼──────────────┤\n",
      "│ Lugar_2 │       0.2000 │\n",
      "╘═════════╧══════════════╛\n",
      "Refugio\n",
      "['Refugio']\n",
      "╒═══════════╤════════════════╕\n",
      "│ Refugio   │   phi(Refugio) │\n",
      "╞═══════════╪════════════════╡\n",
      "│ Refugio_0 │         0.4000 │\n",
      "├───────────┼────────────────┤\n",
      "│ Refugio_1 │         0.6000 │\n",
      "╘═══════════╧════════════════╛\n",
      "Grupo\n",
      "['Grupo']\n",
      "╒═════════╤══════════════╕\n",
      "│ Grupo   │   phi(Grupo) │\n",
      "╞═════════╪══════════════╡\n",
      "│ Grupo_0 │       0.2000 │\n",
      "├─────────┼──────────────┤\n",
      "│ Grupo_1 │       0.8000 │\n",
      "╘═════════╧══════════════╛\n",
      "Cooperativo\n",
      "['Grupo', 'Refugio']\n",
      "╒═════════╤═══════════╤══════════════════════╕\n",
      "│ Grupo   │ Refugio   │   phi(Grupo,Refugio) │\n",
      "╞═════════╪═══════════╪══════════════════════╡\n",
      "│ Grupo_0 │ Refugio_0 │               0.2000 │\n",
      "├─────────┼───────────┼──────────────────────┤\n",
      "│ Grupo_0 │ Refugio_1 │               0.6000 │\n",
      "├─────────┼───────────┼──────────────────────┤\n",
      "│ Grupo_1 │ Refugio_0 │               1.0000 │\n",
      "├─────────┼───────────┼──────────────────────┤\n",
      "│ Grupo_1 │ Refugio_1 │               1.0000 │\n",
      "╘═════════╧═══════════╧══════════════════════╛\n"
     ]
    }
   ],
   "source": [
    "#Función que devuelve los factores iniciales reducidos según las evidencias\n",
    "\n",
    "def factores_iniciales(m,d,e):\n",
    "    c = 0\n",
    "    factores = {}\n",
    "    for n in m.nodes():\n",
    "        if n not in d:\n",
    "            factores[n]= m.cpds[c].to_factor()     \n",
    "        c+=1\n",
    "    for k,v in factores.items():\n",
    "        for i in v.scope():\n",
    "            if i in e:\n",
    "                v = v.reduce([(i, e[i])])\n",
    "        \n",
    "    return factores\n",
    "\n",
    "d = descarta(Modelo_residentevil, consulta, evidencias)\n",
    "e = {'Ciudad':1, 'Cooperativo':1}\n",
    "factores = factores_iniciales(Modelo_residentevil,d,e)\n",
    "\n",
    "for clave, valor in factores.items():\n",
    "    print(clave)\n",
    "    print(valor.scope())\n",
    "    print(valor)"
   ]
  },
  {
   "cell_type": "code",
   "execution_count": 149,
   "metadata": {
    "collapsed": false
   },
   "outputs": [
    {
     "name": "stdout",
     "output_type": "stream",
     "text": [
      "Refugio\n",
      "['Refugio']\n",
      "╒═══════════╤════════════════╕\n",
      "│ Refugio   │   phi(Refugio) │\n",
      "╞═══════════╪════════════════╡\n",
      "│ Refugio_0 │         0.4000 │\n",
      "├───────────┼────────────────┤\n",
      "│ Refugio_1 │         0.6000 │\n",
      "╘═══════════╧════════════════╛\n",
      "Cooperativo\n",
      "['Refugio']\n",
      "╒═══════════╤════════════════╕\n",
      "│ Refugio   │   phi(Refugio) │\n",
      "╞═══════════╪════════════════╡\n",
      "│ Refugio_0 │         0.8400 │\n",
      "├───────────┼────────────────┤\n",
      "│ Refugio_1 │         0.9200 │\n",
      "╘═══════════╧════════════════╛\n"
     ]
    }
   ],
   "source": [
    "#Función que elimina las variables ocultas\n",
    "\n",
    "def eliminar_variables(factores, consultas, evidencias):\n",
    "    eliminar = []\n",
    "    res = {}\n",
    "    for k,v in factores.items():\n",
    "        if k not in consultas and k not in evidencias:\n",
    "            eliminar.append(k)\n",
    "    \n",
    "    for e in eliminar:\n",
    "        for k,v in factores.items():\n",
    "            if e in v.scope() and len(v.scope()) > 1:\n",
    "                phi_not = pgmf.factor_product(factores[e],v)\n",
    "                phi_not.marginalize([e])\n",
    "                factores[k] = phi_not\n",
    "    for k,v in factores.items():\n",
    "        for i in v.scope():\n",
    "            if i in consultas:\n",
    "                res[k] = v\n",
    "        \n",
    "    return res\n",
    "        \n",
    "\n",
    "consultas = []\n",
    "consultas.append(\"Refugio\")\n",
    "evidencias = []\n",
    "evidencias.append(\"Ciudad\")\n",
    "evidencias.append(\"Cooperativo\")\n",
    "\n",
    "d = descarta(Modelo_residentevil, consultas, evidencias)\n",
    "e = {'Ciudad':1, 'Cooperativo':1}\n",
    "\n",
    "factores = factores_iniciales(Modelo_residentevil,d,e)\n",
    "\n",
    "prueba = eliminar_variables(factores,consultas,evidencias)\n",
    "          \n",
    "for k,v in prueba.items():\n",
    "    print(k)\n",
    "    print(v.scope())\n",
    "    print(v)"
   ]
  },
  {
   "cell_type": "code",
   "execution_count": 150,
   "metadata": {
    "collapsed": false
   },
   "outputs": [
    {
     "name": "stdout",
     "output_type": "stream",
     "text": [
      "╒═══════════╤════════════════╕\n",
      "│ Refugio   │   phi(Refugio) │\n",
      "╞═══════════╪════════════════╡\n",
      "│ Refugio_0 │         0.3784 │\n",
      "├───────────┼────────────────┤\n",
      "│ Refugio_1 │         0.6216 │\n",
      "╘═══════════╧════════════════╛\n"
     ]
    }
   ],
   "source": [
    "#Función que multiplica y normaliza los factores restantes\n",
    "def mn_factores(factores):\n",
    "    m = []\n",
    "    for k,v in factores.items():\n",
    "        if not not v.scope():\n",
    "            m.append(v)\n",
    "        \n",
    "    phi = pgmf.factor_product(*m)\n",
    "    phi.normalize()\n",
    "    \n",
    "    return phi\n",
    "\n",
    "end = mn_factores(eliminar_variables(factores,consultas,evidencias))\n",
    "print(end)"
   ]
  },
  {
   "cell_type": "code",
   "execution_count": 135,
   "metadata": {
    "collapsed": false
   },
   "outputs": [
    {
     "name": "stdout",
     "output_type": "stream",
     "text": [
      "╒═══════════╤════════════════╕\n",
      "│ Refugio   │   phi(Refugio) │\n",
      "╞═══════════╪════════════════╡\n",
      "│ Refugio_0 │         0.3784 │\n",
      "├───────────┼────────────────┤\n",
      "│ Refugio_1 │         0.6216 │\n",
      "╘═══════════╧════════════════╛\n"
     ]
    },
    {
     "name": "stderr",
     "output_type": "stream",
     "text": [
      "/Users/anapareciendo/anaconda/lib/python3.6/site-packages/numpy/core/numeric.py:190: VisibleDeprecationWarning: using a non-integer number instead of an integer will result in an error in the future\n",
      "  a = empty(shape, dtype, order)\n"
     ]
    }
   ],
   "source": [
    "#Eliminación de variables: Uso de la clase VariableElimination\n",
    "#Para comprobar que la implementación del algoritmo es correcta\n",
    "Modelo_re_ev = pgmi.VariableElimination(Modelo_residentevil)\n",
    "consulta = Modelo_re_ev.query(['Refugio'], {'Ciudad': 1, 'Cooperativo': 1})\n",
    "print(consulta['Refugio'])"
   ]
  },
  {
   "cell_type": "code",
   "execution_count": null,
   "metadata": {
    "collapsed": true
   },
   "outputs": [],
   "source": []
  }
 ],
 "metadata": {
  "kernelspec": {
   "display_name": "Python 3",
   "language": "python",
   "name": "python3"
  },
  "language_info": {
   "codemirror_mode": {
    "name": "ipython",
    "version": 3
   },
   "file_extension": ".py",
   "mimetype": "text/x-python",
   "name": "python",
   "nbconvert_exporter": "python",
   "pygments_lexer": "ipython3",
   "version": "3.6.0"
  }
 },
 "nbformat": 4,
 "nbformat_minor": 2
}
