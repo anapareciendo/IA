{
 "cells": [
  {
   "cell_type": "code",
   "execution_count": 3,
   "metadata": {
    "collapsed": false
   },
   "outputs": [],
   "source": [
    "#eliminacion de variables irrelevantes\n",
    "\n",
    "def descarta(m, c, e):\n",
    "    lista = c+e\n",
    "    descartados = []\n",
    "    padres = []\n",
    "    for l in lista:\n",
    "        subgrafo = Modelo_residentevil.subgraph(networkx.ancestors(Modelo_residentevil, l))\n",
    "        for s in subgrafo:\n",
    "            padres.append(s)\n",
    "                          \n",
    "    for n in m.nodes():\n",
    "        if n not in lista and n not in padres:\n",
    "            descartados.append(n)\n",
    "                  \n",
    "    return descartados"
   ]
  },
  {
   "cell_type": "code",
   "execution_count": 4,
   "metadata": {
    "collapsed": true
   },
   "outputs": [],
   "source": [
    "#codigo para generar una muestra aleatoria\n",
    "#--------------------------------------------------------------------------\n",
    "import random\n",
    "\n",
    "def seleccionar_probabilidad(cpd, valor, evidencia):\n",
    "    padres = cpd.evidence if cpd.evidence else []\n",
    "    valores_evidencia = tuple(evidencia[var] for var in padres)\n",
    "    return cpd.values[valor][valores_evidencia] #me devuelve los valores de la distribucion de probabilidad conjunta \n",
    "            #(los numeros de la tabla de arriba) los valores de la evidencia vienen dado por los valores de los padres\n",
    "    \n",
    "def generar_valor_aleatorio(cardinalidad, probabilidades):  #para hacer lo de la ruleta. Poner en una linea de  0 a 1 \n",
    "    p = random.random()                                     #todo lo que tengo respetando la cardinalidad \n",
    "    acumuladas = 0                                          #(la probabilidad de que salga)\n",
    "    for valor in range(cardinalidad):\n",
    "        acumuladas += probabilidades[valor] \n",
    "        if p <= acumuladas:\n",
    "            return valor"
   ]
  },
  {
   "cell_type": "code",
   "execution_count": 5,
   "metadata": {
    "collapsed": true
   },
   "outputs": [],
   "source": [
    "def muestra_aleatoria(red):\n",
    "    variables = networkx.topological_sort(red)\n",
    "    muestra = {}\n",
    "    for variable in variables:\n",
    "        tabla = Modelo_alarma.get_cpds(variable)\n",
    "        cardinalidad = tabla.variable_card\n",
    "        probabilidades = [seleccionar_probabilidad(tabla,i,muestra)\n",
    "                         for i in range(cardinalidad)]\n",
    "        valor = generar_valor_aleatorio(cardinalidad,probabilidades)\n",
    "        muestra[variable] = valor\n",
    "    return muestra\n",
    "#---------------------------------------------------------------------------------------"
   ]
  },
  {
   "cell_type": "code",
   "execution_count": null,
   "metadata": {
    "collapsed": true
   },
   "outputs": [],
   "source": [
    "def verosimilitud(modelo, consulta, evidencias):\n",
    "    descartes = descarta(modelo, consulta, evidencias)\n",
    "    nodos = modelo.nodes()\n",
    "    candidatas = nodos - descartes - consulta - evidencias\n",
    "    top = 0\n",
    "    node = None \n",
    "    for n in candidatas:\n",
    "        aleatorio = nodos - consulta - evidencias - n\n",
    "        candPos = n #nodo positivo\n",
    "        candNeg = n #nodo en negativo\n",
    "        valorPos = valorNeg = 0\n",
    "        contador = 1000\n",
    "        tupla = BayesianModel()\n",
    "            for g in nodos:\n",
    "                if g is not n:\n",
    "                    tupla.add_node('g')\n",
    "       \n",
    "        while (contador > 0):\n",
    "            \n",
    "            tuplaPos = muestra_aleatoria(tupla)\n",
    "            tuplaNeg = muestra_aleatoria(tupla)\n",
    "            tuplaPos.add_node('n') #positivo\n",
    "            tuplaNeg.add_node('n') #negativo. no se como hacerlo\n",
    "            \n",
    "            #calcular valor de ambas tuplas\n",
    "            calculoPos = calcularValor(tuplaPos) #codigo a parte. No se como. Nodos tienen valor como atributo? \n",
    "            caltuloNeg = calcuarValor(tuplaNeg) #calcular un valor con codigo llano pero solo afectarian las evidencias  \n",
    "            valorPos = valorPos + calculoPos\n",
    "            valorNeg = valorNeg + calculoNeg\n",
    "            \n",
    "            contador = contador -1\n",
    "        vPos = valorPos/1000\n",
    "        vNeg = valorneg/1000\n",
    "        k = abs(vPos-vNeg)\n",
    "        if(k> top):\n",
    "            top = k\n",
    "            node = n\n",
    "    \n",
    "    return node\n",
    "            "
   ]
  }
 ],
 "metadata": {
  "kernelspec": {
   "display_name": "Python 3",
   "language": "python",
   "name": "python3"
  },
  "language_info": {
   "codemirror_mode": {
    "name": "ipython",
    "version": 3
   },
   "file_extension": ".py",
   "mimetype": "text/x-python",
   "name": "python",
   "nbconvert_exporter": "python",
   "pygments_lexer": "ipython3",
   "version": "3.6.0"
  }
 },
 "nbformat": 4,
 "nbformat_minor": 2
}
